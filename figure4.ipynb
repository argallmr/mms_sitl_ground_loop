{
 "cells": [
  {
   "cell_type": "markdown",
   "metadata": {},
   "source": [
    "# MMS SITL Ground Loop: Figure 4\n",
    "This notebook reproduces Figure 4 of **Argall, et al. 2020**."
   ]
  },
  {
   "cell_type": "markdown",
   "metadata": {},
   "source": [
    "## Front matter"
   ]
  },
  {
   "cell_type": "code",
   "execution_count": null,
   "metadata": {},
   "outputs": [],
   "source": [
    "import pathlib\n",
    "import datetime as dt\n",
    "from pymms.sdc import selections as sel\n",
    "import matplotlib.pyplot as plt"
   ]
  },
  {
   "cell_type": "markdown",
   "metadata": {},
   "source": [
    "## Input Parameters\n",
    "The figure plots data from SROI 1 only between 19 Oct. 2019, which is when the GLS was fully implemented, and 25 Mar. 2020, a few days before the paper was submitted. To reproduce the plots in the supplemental material, set `sroi=None` and `sroi=3`."
   ]
  },
  {
   "cell_type": "code",
   "execution_count": null,
   "metadata": {},
   "outputs": [],
   "source": [
    "sroi = 1\n",
    "outdir = '~/Desktop/mp-dl-unh/'\n",
    "start_date = dt.datetime(2019, 10, 19)\n",
    "end_date = dt.datetime(2020, 3, 25, 18, 44, 46)\n",
    "\n",
    "# Filter selections to be within a particular SROI\n",
    "do_sroi=False\n",
    "if sroi in (1, 2, 3):\n",
    "    do_sroi=True\n",
    "\n",
    "# Location to save the figure\n",
    "if outdir is not None:\n",
    "    outdir = pathlib.Path(outdir).expanduser()"
   ]
  },
  {
   "cell_type": "markdown",
   "metadata": {},
   "source": [
    "## Metric\n",
    "A function to calculate and histogram the overlap between selections."
   ]
  },
  {
   "cell_type": "code",
   "execution_count": null,
   "metadata": {},
   "outputs": [],
   "source": [
    "def plot_metric(ref_data, test_data, fig, labels, location,\n",
    "                nbins=10):\n",
    "    '''\n",
    "    Visualize the overlap between segments.\n",
    "\n",
    "    Parameters\n",
    "    ----------\n",
    "    ref_data : list of `BurstSegment`s\n",
    "        Reference burst segments\n",
    "    test_data : list of `BurstSegment`s\n",
    "        Test burst segments. Determine which test segments\n",
    "        overlap with the reference segments and by how much\n",
    "    labels : tuple of str\n",
    "        Labels for the reference and test segments\n",
    "    location : tuple\n",
    "        Location of the figure (row, col, nrows, ncols)\n",
    "    nbins : int\n",
    "        Number of histogram bins to create\n",
    "\n",
    "    Returns:\n",
    "    --------\n",
    "    ax : `matplotlib.pyplot.Axes`\n",
    "        Axes in which data is displayed\n",
    "    ref_test_data : list of `BurstSegment`s\n",
    "        Reference data that falls within the [start, stop] times\n",
    "        of the test data.\n",
    "    '''\n",
    "\n",
    "    # Determine by how much the test data overlaps with\n",
    "    # the reference data.\n",
    "    ref_test = []\n",
    "    ref_test_data = []\n",
    "    ref_test = [selection_overlap(segment, test_data)\n",
    "                for segment in ref_data]\n",
    "\n",
    "    # Overlap statistics\n",
    "    #   - Number of segments selected\n",
    "    #   - Percentage of segments selected\n",
    "    #   - Percent overlap from each segment\n",
    "    ref_test_selected = sum(selection['n_selections'] > 0\n",
    "                            for selection in ref_test)\n",
    "    ref_test_pct_selected = ref_test_selected / len(ref_test) * 100.0\n",
    "    ref_test_pct_overlap = [selection['pct_overlap'] for selection in ref_test]\n",
    "\n",
    "    # Calculate the plot index from the (row,col) subplot location\n",
    "    plot_idx = lambda rowcol, ncols : (rowcol[0]-1)*ncols + rowcol[1]\n",
    "\n",
    "    # Create a figure\n",
    "    ax = fig.add_subplot(location[2], location[3],\n",
    "                         plot_idx(location[0:2], location[3]))\n",
    "    hh = ax.hist(ref_test_pct_overlap, bins=nbins, range=(0, 100))\n",
    "    #ax.set_xlabel('% Overlap Between {0} and {1} Segments'.format(*labels))\n",
    "    if location[0] == location[2]:\n",
    "        ax.set_xlabel('% Overlap per Segment')\n",
    "    if location[1] == 1:\n",
    "        ax.set_ylabel('Occurrence')\n",
    "    ax.text(0.5, 0.98, '{0:4.1f}% of {1:d}'\n",
    "              .format(ref_test_pct_selected, len(ref_test)),\n",
    "              verticalalignment='top', horizontalalignment='center',\n",
    "              transform=ax.transAxes)\n",
    "    ax.set_title('{0} Segments\\nSelected by {1}'.format(*labels))\n",
    "\n",
    "    return ax, ref_test"
   ]
  },
  {
   "cell_type": "markdown",
   "metadata": {},
   "source": [
    "Determine how much overlap one burst segment of a given class has with another class of burst segments."
   ]
  },
  {
   "cell_type": "code",
   "execution_count": null,
   "metadata": {},
   "outputs": [],
   "source": [
    "def selection_overlap(ref, tests):\n",
    "    '''\n",
    "    Gather overlap statistics.\n",
    "    \n",
    "    Parameters\n",
    "    ----------\n",
    "    ref : `selections.BurstSegment`\n",
    "        The reference burst segment.\n",
    "    tests : list of `selections.BurstSegment`\n",
    "        The burst segements against which the reference segment is compared.\n",
    "    \n",
    "    Returns\n",
    "    -------\n",
    "    out : dict\n",
    "        Data regarding how much the reference segment overlaps with the\n",
    "        test segments.\n",
    "    '''\n",
    "    out = {'dt': ref.tstop - ref.tstart,\n",
    "           'dt_next': dt.timedelta(days=7000),\n",
    "           'n_selections': 0,\n",
    "           't_overlap': dt.timedelta(seconds=0.0),\n",
    "           't_overselect': dt.timedelta(seconds=0.0),\n",
    "           'pct_overlap': 0.0,\n",
    "           'pct_overselect': 0.0\n",
    "           }\n",
    "\n",
    "    # Find which selections overlap with the given entry and by how much\n",
    "    tdelta = dt.timedelta(days=7000)\n",
    "    for test in tests:\n",
    "\n",
    "        if ((test.tstart <= ref.tstop) and\n",
    "            (test.tstop >= ref.tstart)\n",
    "            ):\n",
    "            out['n_selections'] += 1\n",
    "            out['t_overlap'] += (min(test.tstop, ref.tstop)\n",
    "                                 - max(test.tstart, ref.tstart)\n",
    "                                 )\n",
    "\n",
    "        # Time to nearest interval\n",
    "        out['dt_next'] = min(out['dt_next'], abs(test.tstart - ref.tstart))\n",
    "\n",
    "    # Overlap and over-selection statistics\n",
    "    if out['n_selections'] > 0:\n",
    "        out['t_overselect'] = out['dt'] - out['t_overlap']\n",
    "        out['pct_overlap'] = out['t_overlap'] / out['dt'] * 100.0\n",
    "        out['pct_overselect'] = out['t_overselect'] / out['dt'] * 100.0\n",
    "    else:\n",
    "        out['t_overselect'] = out['dt']\n",
    "        out['pct_overselect'] = 100.0\n",
    "\n",
    "    return out"
   ]
  },
  {
   "cell_type": "markdown",
   "metadata": {},
   "source": [
    "## Burst Selections\n",
    "Get the ABS, GLS, and SITL burst selections. Filter by SROI and determine which SITL selections were classified as magnetopause crossings."
   ]
  },
  {
   "cell_type": "code",
   "execution_count": null,
   "metadata": {},
   "outputs": [],
   "source": [
    "abs_data = sel.selections('abs', start_date, end_date,\n",
    "                          latest=True, combine=True, metadata=do_sroi)\n",
    "\n",
    "gls_data = sel.selections('mp-dl-unh', start_date, end_date,\n",
    "                          latest=True, combine=True, metadata=do_sroi)\n",
    "\n",
    "sitl_data = sel.selections('sitl+back', start_date, end_date,\n",
    "                           latest=True, combine=True, metadata=do_sroi)\n",
    "\n",
    "# Filter by SROI\n",
    "if do_sroi:\n",
    "    abs_data = [s for s in abs_data if s.sroi == sroi]\n",
    "    sitl_data = [s for s in sitl_data if s.sroi == sroi]\n",
    "    gls_data = [s for s in gls_data if s.sroi == sroi]\n",
    "\n",
    "sitl_mp_data = sel.filter_segments(sitl_data, '(MP|Magnetopause)')"
   ]
  },
  {
   "cell_type": "markdown",
   "metadata": {},
   "source": [
    "Save the selections for reference."
   ]
  },
  {
   "cell_type": "code",
   "execution_count": null,
   "metadata": {},
   "outputs": [],
   "source": [
    "if outdir is not None:\n",
    "    sroi_str = ''\n",
    "    if do_sroi:\n",
    "        sroi_str = '_sroi{0:d}'.format(sroi)\n",
    "    \n",
    "    for stype, data in zip(('sitl', 'abs', 'gls'), (sitl_data, abs_data, gls_data)):\n",
    "        csv_fname = (outdir\n",
    "                     / '_'.join((stype + sroi_str,\n",
    "                                 start_date.strftime('%Y%m%d%H%M%S'),\n",
    "                                 end_date.strftime('%Y%m%d%H%M%S')\n",
    "                                 )))\n",
    "        csv_fname = csv_fname.with_suffix('.csv')\n",
    "        sel.write_csv(csv_fname, data)"
   ]
  },
  {
   "cell_type": "markdown",
   "metadata": {},
   "source": [
    "## Create the Figure\n",
    "Here, we create the figure. `plot_metric` will determine the overlap between each class of selections, plot a histogram of the results, and annotate the figure with summary statistics."
   ]
  },
  {
   "cell_type": "code",
   "execution_count": null,
   "metadata": {},
   "outputs": [],
   "source": [
    "# Create a figure\n",
    "nbins = 10\n",
    "nrows = 4\n",
    "ncols = 3\n",
    "fig = plt.figure(figsize=(8.5, 10))\n",
    "fig.subplots_adjust(hspace=0.55, wspace=0.3)\n",
    "\n",
    "# GLS-SITL Comparison\n",
    "ax, gls_sitl = plot_metric(gls_data, sitl_data, fig,\n",
    "                           ('GLS', 'SITL'), (1, 1, nrows, ncols),\n",
    "                           nbins=nbins)\n",
    "ax, sitl_gls = plot_metric(sitl_data, gls_data, fig,\n",
    "                           ('SITL', 'GLS'), (2, 1, nrows, ncols),\n",
    "                           nbins=nbins)\n",
    "ax, gls_sitl_mp = plot_metric(gls_data, sitl_mp_data, fig,\n",
    "                              ('GLS', 'SITL MP'), (3, 1, nrows, ncols),\n",
    "                              nbins=nbins)\n",
    "ax, sitl_mp_gls = plot_metric(sitl_mp_data, gls_data, fig,\n",
    "                              ('SITL MP', 'GLS'), (4, 1, nrows, ncols),\n",
    "                              nbins=nbins)\n",
    "\n",
    "# ABS-SITL Comparison\n",
    "ax, abs_sitl = plot_metric(abs_data, sitl_data, fig,\n",
    "                           ('ABS', 'SITL'), (1, 2, nrows, ncols),\n",
    "                           nbins=nbins)\n",
    "ax, sitl_abs = plot_metric(sitl_data, abs_data, fig,\n",
    "                           ('SITL', 'ABS'), (2, 2, nrows, ncols),\n",
    "                           nbins=nbins)\n",
    "ax, abs_sitl_mp = plot_metric(abs_data, sitl_mp_data, fig,\n",
    "                              ('ABS', 'SITL MP'), (3, 2, nrows, ncols),\n",
    "                              nbins=nbins)\n",
    "ax, sitl_mp_abs = plot_metric(sitl_mp_data, abs_data, fig,\n",
    "                              ('SITL MP', 'ABS'), (4, 2, nrows, ncols),\n",
    "                              nbins=nbins)\n",
    "\n",
    "# GLS-ABS Comparison\n",
    "abs_mp_data = [abs_data[idx]\n",
    "               for idx, s in enumerate(abs_sitl_mp)\n",
    "               if s['n_selections'] > 0]\n",
    "\n",
    "ax, gls_abs = plot_metric(gls_data, abs_data, fig,\n",
    "                          ('GLS', 'ABS'), (1, 3, nrows, ncols),\n",
    "                          nbins=nbins)\n",
    "ax, abs_gls = plot_metric(abs_data, gls_data, fig,\n",
    "                          ('ABS', 'GLS'), (2, 3, nrows, ncols),\n",
    "                          nbins=nbins)\n",
    "ax, gls_abs_mp = plot_metric(gls_data, abs_mp_data, fig,\n",
    "                             ('GLS', 'ABS MP'), (3, 3, nrows, ncols),\n",
    "                             nbins=nbins)\n",
    "ax, abs_mp_gls = plot_metric(abs_mp_data, gls_data, fig,\n",
    "                             ('ABS MP', 'GLS'), (4, 3, nrows, ncols),\n",
    "                             nbins=nbins)\n",
    "\n",
    "# Save the figure\n",
    "if outdir is not None:\n",
    "    sroi_str = ''\n",
    "    if do_sroi:\n",
    "        sroi_str = '_sroi{0:d}'.format(sroi)\n",
    "    filename = (outdir\n",
    "                / '_'.join(('selections_metric' + sroi_str,\n",
    "                            start_date.strftime('%Y%m%d%H%M%S'),\n",
    "                            end_date.strftime('%Y%m%d%H%M%S')\n",
    "                            )))\n",
    "    filename = filename.with_suffix('.png')\n",
    "    plt.savefig(filename)"
   ]
  }
 ],
 "metadata": {
  "kernelspec": {
   "display_name": "Python 3",
   "language": "python",
   "name": "python3"
  },
  "language_info": {
   "codemirror_mode": {
    "name": "ipython",
    "version": 3
   },
   "file_extension": ".py",
   "mimetype": "text/x-python",
   "name": "python",
   "nbconvert_exporter": "python",
   "pygments_lexer": "ipython3",
   "version": "3.6.10"
  }
 },
 "nbformat": 4,
 "nbformat_minor": 4
}
