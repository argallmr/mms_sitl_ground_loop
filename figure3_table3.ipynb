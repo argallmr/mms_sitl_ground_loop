{
 "cells": [
  {
   "cell_type": "markdown",
   "metadata": {},
   "source": [
    "# MMS SITL Ground Loop: Case Studies\n",
    "This notebook demonstrates, with the help of some utility functions also included in the repo, how to reproduce Figure 4 and Table 3 of Argall, Small, et al. (2020). Figure 4 consists of three separate figures that were saved as eps files then combined into a single file using Adobe Illustrator. Table 3 contains the SITL selections within the time intervals displayed in Figure 4.\n",
    "\n",
    "**CONTENTS**\n",
    "* [GLS, ABS, and SITL all select the magnetopause](#fig3_left)\n",
    "* [ABS does not select the magnetopause](#fig3_middle)\n",
    "* [GLS does not select the magnetopause](#fig3_right)"
   ]
  },
  {
   "cell_type": "code",
   "execution_count": null,
   "metadata": {},
   "outputs": [],
   "source": [
    "# Where to save files and figures. Set to None to prevent output\n",
    "import pymms\n",
    "outdir = pymms.config['gls_root'] + '/gls_paper'\n",
    "fig_type = 'png' # png, jpg, svg, eps, ..."
   ]
  },
  {
   "cell_type": "markdown",
   "metadata": {},
   "source": [
    "We need to import the `util` module from the repository, but the notebook does not know where the repository is [\\[1\\]](https://github.com/ipython/ipython/issues/10123). So, we assume that the notebook was run from the directory in which it is was saved, then add that directory to the system path [\\[2\\]](https://stackoverflow.com/questions/34478398/import-local-function-from-a-module-housed-in-another-directory-with-relative-im)."
   ]
  },
  {
   "cell_type": "code",
   "execution_count": null,
   "metadata": {},
   "outputs": [],
   "source": [
    "import os\n",
    "import sys\n",
    "repo_dir = os.getcwd()\n",
    "if not os.path.isfile(os.path.join(repo_dir, 'util.py')):\n",
    "    raise ValueError('Could not automatically determine the model root.')\n",
    "if repo_dir not in sys.path:\n",
    "    sys.path.append(repo_dir)\n",
    "import util\n",
    "\n",
    "from pymms.sdc import selections as sel\n",
    "from pymms.sdc import mrmms_sdc_api as api\n",
    "import datetime as dt\n",
    "from matplotlib import pyplot as plt\n",
    "import pathlib\n",
    "\n",
    "if outdir is not None:\n",
    "    outdir = pathlib.Path(outdir).expanduser().absolute()"
   ]
  },
  {
   "cell_type": "markdown",
   "metadata": {},
   "source": [
    "Set common axis limits for the plots"
   ]
  },
  {
   "cell_type": "code",
   "execution_count": null,
   "metadata": {},
   "outputs": [],
   "source": [
    "sc = 'mms1'\n",
    "i_clim = (3, 18.5)\n",
    "e_clim = (12, 21.5)\n",
    "b_lim = (-40, 75)\n",
    "n_lim = (5e-1, 1e2)\n",
    "sel_lim = (0, 200)"
   ]
  },
  {
   "cell_type": "markdown",
   "metadata": {},
   "source": [
    "<a id='fig3_left'></a>\n",
    "## GLS, ABS, and SITL all identify MP\n",
    "Selections that were not at the magnetopause-like but contained time intervals with plasma mixing that were magnetopause-like. For this we will look at SROI1 of orbit 1051."
   ]
  },
  {
   "cell_type": "code",
   "execution_count": null,
   "metadata": {},
   "outputs": [],
   "source": [
    "t0 = dt.datetime(2019, 11, 5, 19, 15, 0)\n",
    "t1 = dt.datetime(2019, 11, 5, 20, 45, 0)\n",
    "orbit = api.time_to_orbit(t0)\n",
    "sroi = 1"
   ]
  },
  {
   "cell_type": "markdown",
   "metadata": {},
   "source": [
    "Get the SITL, ABS, and GLS selections."
   ]
  },
  {
   "cell_type": "code",
   "execution_count": null,
   "metadata": {},
   "outputs": [],
   "source": [
    "# 'sitl+back' option includes selections submitted to the back structure\n",
    "# 'mp-dl-unh' is the name of the GLS model\n",
    "sitl_data = sel.selections('sitl+back', t0, t1, combine=True, sort=True)\n",
    "abs_data = sel.selections('abs', t0, t1, combine=True, sort=True)\n",
    "gls_data = sel.selections('mp-dl-unh', t0, t1, combine=True, sort=True)\n",
    "\n",
    "print('|------------------------------------------------------------------------')\n",
    "print('| Selections made on orbit {0} between {1} and {2}'.format(orbit, t0, t1))\n",
    "print('|--------------------------|')\n",
    "print('| SITL and Back Structure: |')\n",
    "print('|--------------------------|')\n",
    "sel.print_segments(sitl_data)\n",
    "print('|------|')\n",
    "print('| ABS: |')\n",
    "print('|------|')\n",
    "sel.print_segments(abs_data)\n",
    "print('|------|')\n",
    "print('| GLS: |')\n",
    "print('|------|')\n",
    "sel.print_segments(gls_data)"
   ]
  },
  {
   "cell_type": "markdown",
   "metadata": {},
   "source": [
    "Save the selections to a CSV file."
   ]
  },
  {
   "cell_type": "code",
   "execution_count": null,
   "metadata": {},
   "outputs": [],
   "source": [
    "# Save the selections\n",
    "if outdir is not None:\n",
    "    sel.write_csv(outdir / 'table3_orbit-{0}_sroi-{1}.csv'.format(orbit, sroi),\n",
    "                  [*sitl_data, *abs_data, *gls_data])"
   ]
  },
  {
   "cell_type": "markdown",
   "metadata": {},
   "source": [
    "Here, we create the figure"
   ]
  },
  {
   "cell_type": "code",
   "execution_count": null,
   "metadata": {},
   "outputs": [],
   "source": [
    "# Plot the magnetopause interval\n",
    "fig, axes = util.plot_burst_selections(sc, t0, t1, figsize=(2.8,5))\n",
    "axes[0][0].images[0].set_clim(i_clim)\n",
    "axes[0][0].set_title('{0} Orbit {1} SROI{2}'.format(sc.upper(), orbit, sroi))\n",
    "axes[1][0].images[0].set_clim(e_clim)\n",
    "axes[2][0].set_ylim(b_lim)\n",
    "axes[3][0].set_ylim(n_lim)\n",
    "for i in range(3):\n",
    "    axes[i+4][0].set_ylim(sel_lim)\n",
    "\n",
    "# Save the figure\n",
    "if outdir is not None:\n",
    "    plt.savefig(outdir / 'figure3_orbit-{0}_sroi-{1}.{2}'.format(orbit, sroi, fig_type),\n",
    "                dpi=300, transparent=True)\n",
    "plt.show()"
   ]
  },
  {
   "cell_type": "markdown",
   "metadata": {},
   "source": [
    "<a id='fig3_middle'></a>\n",
    "## GLS and SITL select MP, ABS does not¶\n",
    "The following plot highlights a time interval in which the SITL and GLS selected the magnetopause but the ABS did not. It is taken from SROI1 in orbit 1067."
   ]
  },
  {
   "cell_type": "code",
   "execution_count": null,
   "metadata": {},
   "outputs": [],
   "source": [
    "t0 = dt.datetime(2019, 11, 16, 7, 15, 0)\n",
    "t1 = dt.datetime(2019, 11, 16, 8, 45, 0)\n",
    "orbit = api.time_to_orbit(t0)\n",
    "sroi = 1"
   ]
  },
  {
   "cell_type": "markdown",
   "metadata": {},
   "source": [
    "Get the SITL, ABS, and GLS selections."
   ]
  },
  {
   "cell_type": "code",
   "execution_count": null,
   "metadata": {
    "scrolled": true
   },
   "outputs": [],
   "source": [
    "# 'sitl+back' option includes selections submitted to the back structure\n",
    "# 'mp-dl-unh' is the name of the GLS model\n",
    "sitl_data = sel.selections('sitl+back', t0, t1, combine=True, sort=True)\n",
    "abs_data = sel.selections('abs', t0, t1, combine=True, sort=True)\n",
    "gls_data = sel.selections('mp-dl-unh', t0, t1, combine=True, sort=True)\n",
    "\n",
    "print('|------------------------------------------------------------------------')\n",
    "print('| Selections made on orbit {0} between {1} and {2}'.format(orbit, t0, t1))\n",
    "print('|--------------------------|')\n",
    "print('| SITL and Back Structure: |')\n",
    "print('|--------------------------|')\n",
    "sel.print_segments(sitl_data)\n",
    "print('|------|')\n",
    "print('| ABS: |')\n",
    "print('|------|')\n",
    "sel.print_segments(abs_data)\n",
    "print('|------|')\n",
    "print('| GLS: |')\n",
    "print('|------|')\n",
    "sel.print_segments(gls_data)"
   ]
  },
  {
   "cell_type": "markdown",
   "metadata": {},
   "source": [
    "Save the selections to a CSV file."
   ]
  },
  {
   "cell_type": "code",
   "execution_count": null,
   "metadata": {},
   "outputs": [],
   "source": [
    "# Save the selections\n",
    "if outdir is not None:\n",
    "    sel.write_csv(outdir / 'table3_orbit-{0}_sroi-{1}.csv'.format(orbit, sroi),\n",
    "                  [*sitl_data, *abs_data, *gls_data])"
   ]
  },
  {
   "cell_type": "markdown",
   "metadata": {},
   "source": [
    "Create the figure"
   ]
  },
  {
   "cell_type": "code",
   "execution_count": null,
   "metadata": {},
   "outputs": [],
   "source": [
    "# Plot the magnetopause interval on orbit 1062\n",
    "fig, axes = util.plot_burst_selections(sc, t0, t1, figsize=(2.8,5))\n",
    "axes[0][0].images[0].set_clim(i_clim)\n",
    "axes[0][0].set_title('{0} Orbit {1} SROI{2}'.format(sc.upper(), orbit, sroi))\n",
    "axes[1][0].images[0].set_clim(e_clim)\n",
    "axes[2][0].set_ylim(b_lim)\n",
    "axes[3][0].set_ylim(n_lim)\n",
    "for i in range(3):\n",
    "    axes[i+4][0].set_ylim(sel_lim)\n",
    "\n",
    "# Save the figure\n",
    "if outdir is not None:\n",
    "    plt.savefig(outdir / 'figure3_orbit-{0}_sroi-{1}.{2}'.format(orbit, sroi, fig_type),\n",
    "                dpi=300, transparent=True)\n",
    "plt.show()"
   ]
  },
  {
   "cell_type": "markdown",
   "metadata": {},
   "source": [
    "<a id='fig3_right'></a>\n",
    "## ABS and SILT select MP, GLS does not\n",
    "Most to all of the SITL selections in all of the SROI 1s were at least partially selected by the GLS. There are very few intervals in SROI 3 that were selected by the GLS. The following plot highlights a time interval in which the SITL and ABS selected the magnetopause but the GLS did not. It is taken from SROI 3 in orbit 1075."
   ]
  },
  {
   "cell_type": "code",
   "execution_count": null,
   "metadata": {},
   "outputs": [],
   "source": [
    "t0 = dt.datetime(2020, 1, 17, 19, 50, 0)\n",
    "t1 = dt.datetime(2020, 1, 17, 20, 30, 0)\n",
    "orbit = api.time_to_orbit(t0)\n",
    "sroi = 3"
   ]
  },
  {
   "cell_type": "markdown",
   "metadata": {},
   "source": [
    "Get the SITL, ABS, and GLS selections"
   ]
  },
  {
   "cell_type": "code",
   "execution_count": null,
   "metadata": {},
   "outputs": [],
   "source": [
    "# 'sitl+back' option includes selections submitted to the back structure\n",
    "# 'mp-dl-unh' is the name of the GLS model\n",
    "sitl_data = sel.selections('sitl+back', t0, t1, combine=True, sort=True)\n",
    "abs_data = sel.selections('abs', t0, t1, combine=True, sort=True)\n",
    "gls_data = sel.selections('mp-dl-unh', t0, t1, combine=True, sort=True)\n",
    "\n",
    "print('|------------------------------------------------------------------------')\n",
    "print('| Selections made on orbit {0} between {1} and {2}'.format(orbit, t0, t1))\n",
    "print('|--------------------------|')\n",
    "print('| SITL and Back Structure: |')\n",
    "print('|--------------------------|')\n",
    "sel.print_segments(sitl_data)\n",
    "print('|------|')\n",
    "print('| ABS: |')\n",
    "print('|------|')\n",
    "sel.print_segments(abs_data)\n",
    "print('|------|')\n",
    "print('| GLS: |')\n",
    "print('|------|')\n",
    "sel.print_segments(gls_data)"
   ]
  },
  {
   "cell_type": "markdown",
   "metadata": {},
   "source": [
    "Save the selections to a CSV file."
   ]
  },
  {
   "cell_type": "code",
   "execution_count": null,
   "metadata": {},
   "outputs": [],
   "source": [
    "# Save the selections\n",
    "if outdir is not None:\n",
    "    sel.write_csv(outdir / 'table3_orbit-{0}_sroi-{1}.csv'.format(orbit, sroi),\n",
    "                  [*sitl_data, *abs_data, *gls_data])"
   ]
  },
  {
   "cell_type": "markdown",
   "metadata": {},
   "source": [
    "Create the figure."
   ]
  },
  {
   "cell_type": "code",
   "execution_count": null,
   "metadata": {},
   "outputs": [],
   "source": [
    "# Plot the magnetopause interval on orbit 1075\n",
    "fig, axes = util.plot_burst_selections(sc, t0, t1, figsize=(2.8,5))\n",
    "axes[0][0].images[0].set_clim(i_clim)\n",
    "axes[0][0].set_title('{0} Orbit {1} SROI{2}'.format(sc.upper(), orbit, sroi))\n",
    "axes[1][0].images[0].set_clim(e_clim)\n",
    "axes[2][0].set_ylim(b_lim)\n",
    "axes[3][0].set_ylim(n_lim)\n",
    "for i in range(3):\n",
    "    axes[i+4][0].set_ylim(sel_lim)\n",
    "\n",
    "if outdir is not None:\n",
    "    plt.savefig(outdir / 'figure3_orbit-{0}_sroi-{1}.{2}'.format(orbit, sroi, fig_type),\n",
    "                dpi=300, transparent=True)\n",
    "plt.show()"
   ]
  },
  {
   "cell_type": "code",
   "execution_count": null,
   "metadata": {},
   "outputs": [],
   "source": []
  }
 ],
 "metadata": {
  "kernelspec": {
   "display_name": "Python 3",
   "language": "python",
   "name": "python3"
  },
  "language_info": {
   "codemirror_mode": {
    "name": "ipython",
    "version": 3
   },
   "file_extension": ".py",
   "mimetype": "text/x-python",
   "name": "python",
   "nbconvert_exporter": "python",
   "pygments_lexer": "ipython3",
   "version": "3.6.10"
  }
 },
 "nbformat": 4,
 "nbformat_minor": 2
}
